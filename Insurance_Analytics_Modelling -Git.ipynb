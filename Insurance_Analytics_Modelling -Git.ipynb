{
 "cells": [
  {
   "cell_type": "markdown",
   "metadata": {},
   "source": [
    "# Project Overview\n",
    "\n",
    "### Purpose of the Project  \n",
    "This project aims to provide a hands-on introduction to the general workflow of Data Science (DS) and Machine Learning (ML), which has become a cornerstone framework for modern actuarial pricing methodologies. Accurate pricing remains a critical challenge for the insurance industry, where precise loss cost estimates are essential for effective portfolio management and maintaining financial stability. The urgency of this issue is underscored by the increasing volume of claims, such as those related to business interruptions—a significant consequence of the COVID-19 pandemic.\n",
    "\n",
    "As part of this project, a case study will explore supervised ML techniques for predicting claim severities using a French motor third-party liability (MTPL) insurance dataset. While this case study may not directly address the most immediate pricing challenges faced by actuaries today, the project aims to demonstrate the potential of advanced analytical and computational methods in transforming the insurance sector. It advocates for preparing the industry to meet future demands with innovative, data-driven solutions.\n",
    "\n",
    "### Key Highlights of the Project  \n",
    "This project will focus on the following components:  \n",
    "1. **Data Preprocessing and Encoding**: Preparing the MTPL insurance dataset by cleaning and encoding the data for effective analysis.  \n",
    "2. **Feature Selection**: Identifying and selecting the most significant risk factors from the dataset.  \n",
    "3. **Model Training and Testing**: Applying a variety of ML regression models to predict claim severities based on the chosen risk features.  \n",
    "---"
   ]
  },
  {
   "cell_type": "markdown",
   "metadata": {},
   "source": [
    "### Step-1: Imports\n",
    "---"
   ]
  },
  {
   "cell_type": "code",
   "execution_count": null,
   "metadata": {
    "trusted": true
   },
   "outputs": [],
   "source": [
    "import numpy as np # linear algebra\n",
    "import pandas as pd # data processing, CSV file I/O (e.g. pd.read_csv)\n",
    "import matplotlib.pyplot as plt # graphs/plotting\n",
    "import seaborn as sns\n",
    "\n",
    "from sklearn.preprocessing import OneHotEncoder\n",
    "from sklearn.model_selection import train_test_split\n",
    "from sklearn.preprocessing import LabelEncoder\n",
    "from sklearn.preprocessing import MinMaxScaler\n",
    "from sklearn.linear_model import Lasso\n",
    "from sklearn.feature_selection import SelectFromModel\n",
    "from sklearn.ensemble import RandomForestRegressor\n",
    "from sklearn.linear_model import PoissonRegressor\n",
    "from sklearn.linear_model import TweedieRegressor\n",
    "from xgboost import XGBRegressor\n",
    "\n",
    "# Import metrics\n",
    "from sklearn.model_selection import cross_val_score\n",
    "from sklearn.metrics import mean_absolute_error\n",
    "\n",
    "\n",
    "import os\n",
    "for dirname, _, filenames in os.walk('/kaggle/input'):\n",
    "    for filename in filenames:\n",
    "        print(os.path.join(dirname, filename))"
   ]
  },
  {
   "cell_type": "code",
   "execution_count": 2,
   "metadata": {
    "trusted": true
   },
   "outputs": [
    {
     "name": "stdout",
     "output_type": "stream",
     "text": [
      "Now loading MTPLfreq.\n",
      "MTPLfreq was loaded.\n",
      "\n",
      "Now loading MTPLsev.\n",
      "MTPLsev was loaded.\n",
      "\n"
     ]
    }
   ],
   "source": [
    "## Load the CSV data files into Pandas dataframes.\n",
    "\n",
    "MTPL_filepath = \"/kaggle/input/fremtpl-french-motor-tpl-insurance-claims/\"\n",
    "\n",
    "print(\"Now loading MTPLfreq.\")\n",
    "MTPLfreq = pd.read_csv(MTPL_filepath+\"freMTPLfreq.csv\")\n",
    "print(\"MTPLfreq was loaded.\\n\")\n",
    "\n",
    "print(\"Now loading MTPLsev.\")\n",
    "MTPLsev = pd.read_csv(MTPL_filepath+\"freMTPLsev.csv\")\n",
    "print(\"MTPLsev was loaded.\\n\")"
   ]
  },
  {
   "cell_type": "code",
   "execution_count": 3,
   "metadata": {
    "trusted": true
   },
   "outputs": [
    {
     "name": "stdout",
     "output_type": "stream",
     "text": [
      "34465077\n",
      "34465077.0\n"
     ]
    }
   ],
   "source": [
    "# Check for total amount of claims paid in original DataFrame, prior to merging MTPLfreq with MTPLsev.\n",
    "\n",
    "print(sum(MTPLsev['ClaimAmount']))\n",
    "\n",
    "# Aggregate the claim amounts by PolicyID, prior to merging MTPLfreq with MTPLsev.\n",
    "\n",
    "MTPLsev_grp = MTPLsev.groupby(['PolicyID'])[['ClaimAmount']].agg('sum').reset_index()\n",
    "\n",
    "# Perform an outer merge between MTPLfreq/MTPLsev, based on PolicyID, then reset the index back to PolicyID (this is dropped during merging).\n",
    "\n",
    "df_merged = pd.merge(MTPLfreq, MTPLsev_grp, how='outer', on='PolicyID').fillna(0).set_index('PolicyID')\n",
    "\n",
    "# Check for the total amount of claims paid in new DataFrame, after merging MTPLfreq with MTPLsev.\n",
    "\n",
    "print(sum(df_merged['ClaimAmount']))"
   ]
  },
  {
   "cell_type": "markdown",
   "metadata": {},
   "source": [
    "### Step-2: Exploratory Data Analysis\n",
    "---"
   ]
  },
  {
   "cell_type": "markdown",
   "metadata": {},
   "source": [
    "**Understanding the columns and their datatypes**"
   ]
  },
  {
   "cell_type": "code",
   "execution_count": 4,
   "metadata": {
    "trusted": true
   },
   "outputs": [
    {
     "name": "stdout",
     "output_type": "stream",
     "text": [
      "Index(['ClaimNb', 'Exposure', 'Power', 'CarAge', 'DriverAge', 'Brand', 'Gas',\n",
      "       'Region', 'Density', 'ClaimAmount'],\n",
      "      dtype='object')\n",
      "\n",
      "\n",
      "ClaimNb          int64\n",
      "Exposure       float64\n",
      "Power           object\n",
      "CarAge           int64\n",
      "DriverAge        int64\n",
      "Brand           object\n",
      "Gas             object\n",
      "Region          object\n",
      "Density          int64\n",
      "ClaimAmount    float64\n",
      "dtype: object\n",
      "\n",
      "\n"
     ]
    }
   ],
   "source": [
    "print(df_merged.columns)\n",
    "print('\\n')\n",
    "print(df_merged.dtypes)\n",
    "print('\\n')"
   ]
  },
  {
   "cell_type": "markdown",
   "metadata": {},
   "source": [
    "From the code above, we can see that we have a variety of datatypes within our dataframe - the columns with `object` dtype contain non-numerical (character) data, which will need to be pre-processed in order for these to be machine-interpretable.\n",
    "\n",
    "This will be explained in further detail later on."
   ]
  },
  {
   "cell_type": "markdown",
   "metadata": {},
   "source": [
    "**First 5 rows of the MTPL dataset**"
   ]
  },
  {
   "cell_type": "code",
   "execution_count": 5,
   "metadata": {
    "trusted": true
   },
   "outputs": [
    {
     "name": "stdout",
     "output_type": "stream",
     "text": [
      "          ClaimNb  Exposure Power  CarAge  DriverAge  \\\n",
      "PolicyID                                               \n",
      "1               0      0.09     g       0         46   \n",
      "2               0      0.84     g       0         46   \n",
      "3               0      0.52     f       2         38   \n",
      "4               0      0.45     f       2         38   \n",
      "5               0      0.15     g       0         41   \n",
      "\n",
      "                                       Brand      Gas              Region  \\\n",
      "PolicyID                                                                    \n",
      "1         Japanese (except Nissan) or Korean   Diesel           Aquitaine   \n",
      "2         Japanese (except Nissan) or Korean   Diesel           Aquitaine   \n",
      "3         Japanese (except Nissan) or Korean  Regular  Nord-Pas-de-Calais   \n",
      "4         Japanese (except Nissan) or Korean  Regular  Nord-Pas-de-Calais   \n",
      "5         Japanese (except Nissan) or Korean   Diesel    Pays-de-la-Loire   \n",
      "\n",
      "          Density  ClaimAmount  \n",
      "PolicyID                        \n",
      "1              76          0.0  \n",
      "2              76          0.0  \n",
      "3            3003          0.0  \n",
      "4            3003          0.0  \n",
      "5              60          0.0  \n",
      "\n",
      "\n"
     ]
    }
   ],
   "source": [
    "print(df_merged.head())\n",
    "print('\\n')"
   ]
  },
  {
   "cell_type": "markdown",
   "metadata": {},
   "source": [
    "**How many policyholders have made zero claims? How will this affect the choice of model that we use to estimate claim severity?**"
   ]
  },
  {
   "cell_type": "code",
   "execution_count": 6,
   "metadata": {
    "trusted": true
   },
   "outputs": [
    {
     "name": "stdout",
     "output_type": "stream",
     "text": [
      "96.28% of policyholders have not made any claims.\n"
     ]
    }
   ],
   "source": [
    "policies_no_claims = len(df_merged.loc[df_merged['ClaimNb'] == 0].index)\n",
    "all_policies = len(df_merged.index)\n",
    "\n",
    "pct_pols_no_clm = round((policies_no_claims/all_policies)*100, 2) \n",
    "\n",
    "print(str(pct_pols_no_clm)+\"% of policyholders have not made any claims.\")"
   ]
  },
  {
   "cell_type": "markdown",
   "metadata": {},
   "source": [
    "Since the majority of policyholders have not filed any claims, the `ClaimAmount` distribution is expected to exhibit a significant peak at zero, accompanied by a right-skewed tail representing positive claim amounts with a probability that decreases exponentially.  \n",
    "\n",
    "Therefore, the linear regression model we select must effectively capture and accommodate both the sharp concentration around zero and the skewed tail of the `ClaimAmount` distribution."
   ]
  },
  {
   "cell_type": "markdown",
   "metadata": {},
   "source": [
    "### Step 3: Added Features\n",
    "---"
   ]
  },
  {
   "cell_type": "code",
   "execution_count": 7,
   "metadata": {
    "trusted": true
   },
   "outputs": [],
   "source": [
    "df_merged['ClaimFreq'] = df_merged['ClaimNb'] / df_merged['Exposure']\n",
    "\n",
    "df_merged['ClaimSev'] = df_merged['ClaimAmount'] / df_merged['Exposure']"
   ]
  },
  {
   "cell_type": "markdown",
   "metadata": {},
   "source": [
    "### Step 4: Perform a train-test split\n",
    "---"
   ]
  },
  {
   "cell_type": "markdown",
   "metadata": {},
   "source": [
    "Next - we will create separate DataFrames that will store the features and target variables. These are then supplied to the `sklearn` function `train_test_split()` in order to split the data into training/test subsets, for the reason outlined above."
   ]
  },
  {
   "cell_type": "code",
   "execution_count": null,
   "metadata": {
    "trusted": true
   },
   "outputs": [
    {
     "name": "stdout",
     "output_type": "stream",
     "text": [
      "PolicyID\n",
      "1    0.0\n",
      "2    0.0\n",
      "3    0.0\n",
      "4    0.0\n",
      "5    0.0\n",
      "Name: ClaimAmount, dtype: float64\n",
      "          ClaimNb  Exposure Power  CarAge  DriverAge  \\\n",
      "PolicyID                                               \n",
      "1               0      0.09     g       0         46   \n",
      "2               0      0.84     g       0         46   \n",
      "3               0      0.52     f       2         38   \n",
      "4               0      0.45     f       2         38   \n",
      "5               0      0.15     g       0         41   \n",
      "\n",
      "                                       Brand      Gas              Region  \\\n",
      "PolicyID                                                                    \n",
      "1         Japanese (except Nissan) or Korean   Diesel           Aquitaine   \n",
      "2         Japanese (except Nissan) or Korean   Diesel           Aquitaine   \n",
      "3         Japanese (except Nissan) or Korean  Regular  Nord-Pas-de-Calais   \n",
      "4         Japanese (except Nissan) or Korean  Regular  Nord-Pas-de-Calais   \n",
      "5         Japanese (except Nissan) or Korean   Diesel    Pays-de-la-Loire   \n",
      "\n",
      "          Density  ClaimFreq  \n",
      "PolicyID                      \n",
      "1              76        0.0  \n",
      "2              76        0.0  \n",
      "3            3003        0.0  \n",
      "4            3003        0.0  \n",
      "5              60        0.0  \n"
     ]
    }
   ],
   "source": [
    "# Assign the target variable \n",
    "y_full = df_merged.ClaimAmount\n",
    "X_full = df_merged.drop(['ClaimAmount', 'ClaimSev'], axis=1)\n",
    "print(y_full.head())\n",
    "print(X_full.head())\n",
    "\n",
    "\n",
    "X_train, X_valid, y_train, y_valid = train_test_split(X_full, y_full, train_size=0.8, test_size=0.2, random_state=1)"
   ]
  },
  {
   "cell_type": "markdown",
   "metadata": {},
   "source": [
    "### Step 5: Encode categorical variables for modelling\n",
    "---"
   ]
  },
  {
   "cell_type": "markdown",
   "metadata": {},
   "source": [
    "**Label Encoding**\n"
   ]
  },
  {
   "cell_type": "code",
   "execution_count": null,
   "metadata": {
    "trusted": true
   },
   "outputs": [],
   "source": [
    "# Make a copy of the training/validation feature subsets to avoid changing any original data.\n",
    "copy_X_train = X_train.copy()\n",
    "copy_X_valid = X_valid.copy()\n",
    "\n",
    "# Apply a label encoder to the 'Power' column (i.e. encoding of ordinal variable).\n",
    "label_encoder = LabelEncoder()\n",
    "\n",
    "copy_X_train['Power'] = label_encoder.fit_transform(X_train['Power'])\n",
    "copy_X_valid['Power'] = label_encoder.transform(X_valid['Power'])"
   ]
  },
  {
   "cell_type": "markdown",
   "metadata": {},
   "source": [
    "**One-Hot Encoding**\n"
   ]
  },
  {
   "cell_type": "code",
   "execution_count": null,
   "metadata": {
    "trusted": true
   },
   "outputs": [],
   "source": [
    "\n",
    "\n",
    "OH_encoder = OneHotEncoder(handle_unknown='ignore', sparse=False)\n",
    "OH_cols = ['Brand', 'Gas', 'Region']\n",
    "\n",
    "## 'handle_unknown=\"ignore\"' prevents errors when unseen categories appear in the validation set.\n",
    "## 'sparse=False' ensures the output is a dense numpy array instead of a sparse matrix.\n",
    "\n",
    "# Transform the categorical columns into one-hot encoded arrays.\n",
    "OH_cols_train = pd.DataFrame(OH_encoder.fit_transform(copy_X_train[OH_cols]))\n",
    "OH_cols_valid = pd.DataFrame(OH_encoder.transform(copy_X_valid[OH_cols]))\n",
    "\n",
    "# Reassign the original indices after transformation.\n",
    "OH_cols_train.index = copy_X_train.index\n",
    "OH_cols_valid.index = copy_X_valid.index\n",
    "\n",
    "# Assign proper column names from the encoder's feature names.\n",
    "OH_cols_train.columns = OH_encoder.get_feature_names(OH_cols)\n",
    "OH_cols_valid.columns = OH_encoder.get_feature_names(OH_cols)\n",
    "\n",
    "# Create dataframes excluding the original categorical columns.\n",
    "copy_X_train_no_OH_cols = copy_X_train.drop(OH_cols, axis=1)\n",
    "copy_X_valid_no_OH_cols = copy_X_valid.drop(OH_cols, axis=1)\n",
    "\n",
    "# Combine the one-hot encoded columns with the remaining numerical features.\n",
    "X_train_enc = pd.concat([copy_X_train_no_OH_cols, OH_cols_train], axis=1)\n",
    "X_valid_enc = pd.concat([copy_X_valid_no_OH_cols, OH_cols_valid], axis=1)\n"
   ]
  },
  {
   "cell_type": "markdown",
   "metadata": {},
   "source": [
    "**Data scaling - normalisation**\n",
    "> Perform min-max scaling on the encoded dataset, such that all features lie between 0 and 1"
   ]
  },
  {
   "cell_type": "code",
   "execution_count": null,
   "metadata": {
    "trusted": true
   },
   "outputs": [],
   "source": [
    "MM_scaler = MinMaxScaler()\n",
    "MM_scaler.fit(X_train_enc)\n",
    "\n",
    "X_train_scale = pd.DataFrame(MM_scaler.transform(X_train_enc),\n",
    "                             index=X_train_enc.index,\n",
    "                             columns=X_train_enc.columns)\n",
    "\n",
    "X_valid_scale = pd.DataFrame(MM_scaler.transform(X_valid_enc),\n",
    "                             index=X_valid_enc.index,\n",
    "                             columns=X_valid_enc.columns)"
   ]
  },
  {
   "cell_type": "code",
   "execution_count": 12,
   "metadata": {
    "trusted": true
   },
   "outputs": [
    {
     "data": {
      "text/plain": [
       "ClaimNb                                     0.0\n",
       "Exposure                                    0.0\n",
       "Power                                       0.0\n",
       "CarAge                                      0.0\n",
       "DriverAge                                   0.0\n",
       "Density                                     0.0\n",
       "ClaimFreq                                   0.0\n",
       "Brand_Fiat                                  0.0\n",
       "Brand_Japanese (except Nissan) or Korean    0.0\n",
       "Brand_Mercedes, Chrysler or BMW             0.0\n",
       "Brand_Opel, General Motors or Ford          0.0\n",
       "Brand_Renault, Nissan or Citroen            0.0\n",
       "Brand_Volkswagen, Audi, Skoda or Seat       0.0\n",
       "Brand_other                                 0.0\n",
       "Gas_Diesel                                  0.0\n",
       "Gas_Regular                                 0.0\n",
       "Region_Aquitaine                            0.0\n",
       "Region_Basse-Normandie                      0.0\n",
       "Region_Bretagne                             0.0\n",
       "Region_Centre                               0.0\n",
       "Region_Haute-Normandie                      0.0\n",
       "Region_Ile-de-France                        0.0\n",
       "Region_Limousin                             0.0\n",
       "Region_Nord-Pas-de-Calais                   0.0\n",
       "Region_Pays-de-la-Loire                     0.0\n",
       "Region_Poitou-Charentes                     0.0\n",
       "dtype: float64"
      ]
     },
     "execution_count": 12,
     "metadata": {},
     "output_type": "execute_result"
    }
   ],
   "source": [
    "# Verify minimum value of all features in X_train_scale:\n",
    "\n",
    "X_train_scale.min(axis=0)"
   ]
  },
  {
   "cell_type": "code",
   "execution_count": 13,
   "metadata": {
    "trusted": true
   },
   "outputs": [
    {
     "data": {
      "text/plain": [
       "ClaimNb                                     1.0\n",
       "Exposure                                    1.0\n",
       "Power                                       1.0\n",
       "CarAge                                      1.0\n",
       "DriverAge                                   1.0\n",
       "Density                                     1.0\n",
       "ClaimFreq                                   1.0\n",
       "Brand_Fiat                                  1.0\n",
       "Brand_Japanese (except Nissan) or Korean    1.0\n",
       "Brand_Mercedes, Chrysler or BMW             1.0\n",
       "Brand_Opel, General Motors or Ford          1.0\n",
       "Brand_Renault, Nissan or Citroen            1.0\n",
       "Brand_Volkswagen, Audi, Skoda or Seat       1.0\n",
       "Brand_other                                 1.0\n",
       "Gas_Diesel                                  1.0\n",
       "Gas_Regular                                 1.0\n",
       "Region_Aquitaine                            1.0\n",
       "Region_Basse-Normandie                      1.0\n",
       "Region_Bretagne                             1.0\n",
       "Region_Centre                               1.0\n",
       "Region_Haute-Normandie                      1.0\n",
       "Region_Ile-de-France                        1.0\n",
       "Region_Limousin                             1.0\n",
       "Region_Nord-Pas-de-Calais                   1.0\n",
       "Region_Pays-de-la-Loire                     1.0\n",
       "Region_Poitou-Charentes                     1.0\n",
       "dtype: float64"
      ]
     },
     "execution_count": 13,
     "metadata": {},
     "output_type": "execute_result"
    }
   ],
   "source": [
    "# Verify maximum value of all features in X_train_scale:\n",
    "\n",
    "X_train_scale.max(axis=0)"
   ]
  },
  {
   "cell_type": "code",
   "execution_count": 14,
   "metadata": {
    "trusted": true
   },
   "outputs": [
    {
     "data": {
      "text/plain": [
       "ClaimNb                                     0.0\n",
       "Exposure                                    0.0\n",
       "Power                                       0.0\n",
       "CarAge                                      0.0\n",
       "DriverAge                                   0.0\n",
       "Density                                     0.0\n",
       "ClaimFreq                                   0.0\n",
       "Brand_Fiat                                  0.0\n",
       "Brand_Japanese (except Nissan) or Korean    0.0\n",
       "Brand_Mercedes, Chrysler or BMW             0.0\n",
       "Brand_Opel, General Motors or Ford          0.0\n",
       "Brand_Renault, Nissan or Citroen            0.0\n",
       "Brand_Volkswagen, Audi, Skoda or Seat       0.0\n",
       "Brand_other                                 0.0\n",
       "Gas_Diesel                                  0.0\n",
       "Gas_Regular                                 0.0\n",
       "Region_Aquitaine                            0.0\n",
       "Region_Basse-Normandie                      0.0\n",
       "Region_Bretagne                             0.0\n",
       "Region_Centre                               0.0\n",
       "Region_Haute-Normandie                      0.0\n",
       "Region_Ile-de-France                        0.0\n",
       "Region_Limousin                             0.0\n",
       "Region_Nord-Pas-de-Calais                   0.0\n",
       "Region_Pays-de-la-Loire                     0.0\n",
       "Region_Poitou-Charentes                     0.0\n",
       "dtype: float64"
      ]
     },
     "execution_count": 14,
     "metadata": {},
     "output_type": "execute_result"
    }
   ],
   "source": [
    "# Verify minimum value of all features:\n",
    "\n",
    "X_valid_scale.min(axis=0)"
   ]
  },
  {
   "cell_type": "code",
   "execution_count": 15,
   "metadata": {
    "trusted": true
   },
   "outputs": [
    {
     "data": {
      "text/plain": [
       "ClaimNb                                     1.000000\n",
       "Exposure                                    0.718206\n",
       "Power                                       1.000000\n",
       "CarAge                                      1.000000\n",
       "DriverAge                                   1.000000\n",
       "Density                                     1.000000\n",
       "ClaimFreq                                   1.000000\n",
       "Brand_Fiat                                  1.000000\n",
       "Brand_Japanese (except Nissan) or Korean    1.000000\n",
       "Brand_Mercedes, Chrysler or BMW             1.000000\n",
       "Brand_Opel, General Motors or Ford          1.000000\n",
       "Brand_Renault, Nissan or Citroen            1.000000\n",
       "Brand_Volkswagen, Audi, Skoda or Seat       1.000000\n",
       "Brand_other                                 1.000000\n",
       "Gas_Diesel                                  1.000000\n",
       "Gas_Regular                                 1.000000\n",
       "Region_Aquitaine                            1.000000\n",
       "Region_Basse-Normandie                      1.000000\n",
       "Region_Bretagne                             1.000000\n",
       "Region_Centre                               1.000000\n",
       "Region_Haute-Normandie                      1.000000\n",
       "Region_Ile-de-France                        1.000000\n",
       "Region_Limousin                             1.000000\n",
       "Region_Nord-Pas-de-Calais                   1.000000\n",
       "Region_Pays-de-la-Loire                     1.000000\n",
       "Region_Poitou-Charentes                     1.000000\n",
       "dtype: float64"
      ]
     },
     "execution_count": 15,
     "metadata": {},
     "output_type": "execute_result"
    }
   ],
   "source": [
    "# Verify maximum value of all features:\n",
    "\n",
    "X_valid_scale.max(axis=0)"
   ]
  },
  {
   "cell_type": "markdown",
   "metadata": {},
   "source": [
    "### Step-6: Descriptive Stats \n",
    "---"
   ]
  },
  {
   "cell_type": "code",
   "execution_count": 16,
   "metadata": {
    "trusted": true
   },
   "outputs": [
    {
     "name": "stdout",
     "output_type": "stream",
     "text": [
      "             ClaimNb       Exposure         CarAge      DriverAge  \\\n",
      "count  413169.000000  413169.000000  413169.000000  413169.000000   \n",
      "mean        0.039163       0.561088       7.532404      45.319876   \n",
      "std         0.204053       0.369477       5.763011      14.328120   \n",
      "min         0.000000       0.002732       0.000000      18.000000   \n",
      "25%         0.000000       0.200000       3.000000      34.000000   \n",
      "50%         0.000000       0.540000       7.000000      44.000000   \n",
      "75%         0.000000       1.000000      12.000000      54.000000   \n",
      "max         4.000000       1.990000     100.000000      99.000000   \n",
      "\n",
      "             Density   ClaimAmount      ClaimFreq      ClaimSev  \n",
      "count  413169.000000  4.131690e+05  413169.000000  4.131690e+05  \n",
      "mean     1985.153913  8.341642e+01       0.118803  3.711403e+02  \n",
      "std      4776.254543  4.192526e+03       2.155181  3.493029e+04  \n",
      "min         2.000000  0.000000e+00       0.000000  0.000000e+00  \n",
      "25%        67.000000  0.000000e+00       0.000000  0.000000e+00  \n",
      "50%       287.000000  0.000000e+00       0.000000  0.000000e+00  \n",
      "75%      1410.000000  0.000000e+00       0.000000  0.000000e+00  \n",
      "max     27000.000000  2.036833e+06     365.000004  1.824670e+07  \n"
     ]
    }
   ],
   "source": [
    "print(df_merged.describe())"
   ]
  },
  {
   "cell_type": "code",
   "execution_count": 17,
   "metadata": {
    "trusted": true
   },
   "outputs": [],
   "source": [
    "desc_pairplot_x_vars_A = ['ClaimNb', 'Power', 'CarAge', 'DriverAge', 'Brand', 'Gas', 'Density']\n",
    "\n",
    "desc_pairplot_x_vars_B = ['Power', 'CarAge', 'DriverAge', 'Brand', 'Gas', 'Density']"
   ]
  },
  {
   "cell_type": "code",
   "execution_count": 18,
   "metadata": {
    "trusted": true
   },
   "outputs": [
    {
     "data": {
      "image/png": "[encoded data removed]",
      "text/plain": [
       "<Figure size 1260x180 with 7 Axes>"
      ]
     },
     "metadata": {
      "needs_background": "light"
     },
     "output_type": "display_data"
    }
   ],
   "source": [
    "# Pairplot 1 - Exposure vs. x_vars.\n",
    "\n",
    "desc_pairplot_1 = sns.pairplot(df_merged, x_vars=desc_pairplot_x_vars_A, y_vars='Exposure')"
   ]
  },
  {
   "cell_type": "code",
   "execution_count": 19,
   "metadata": {
    "trusted": true
   },
   "outputs": [
    {
     "data": {
      "image/png": "[encoded data removed]",
      "text/plain": [
       "<Figure size 1080x180 with 6 Axes>"
      ]
     },
     "metadata": {
      "needs_background": "light"
     },
     "output_type": "display_data"
    }
   ],
   "source": [
    "# Pairplot 2 - ClaimNb vs. x_vars.\n",
    "\n",
    "desc_pairplot_2 = sns.pairplot(df_merged, x_vars=desc_pairplot_x_vars_B, y_vars='ClaimNb')"
   ]
  },
  {
   "cell_type": "code",
   "execution_count": 20,
   "metadata": {
    "trusted": true
   },
   "outputs": [
    {
     "data": {
      "image/png": "[encoded data removed]",
      "text/plain": [
       "<Figure size 1080x180 with 6 Axes>"
      ]
     },
     "metadata": {
      "needs_background": "light"
     },
     "output_type": "display_data"
    }
   ],
   "source": [
    "# Pairplot 3 - ClaimFreq vs. x_vars (i.e. accounting for policy exposure weighting).\n",
    "\n",
    "desc_pairplot_3 = sns.pairplot(df_merged, x_vars=desc_pairplot_x_vars_B, y_vars='ClaimFreq')"
   ]
  },
  {
   "cell_type": "code",
   "execution_count": 21,
   "metadata": {
    "trusted": true
   },
   "outputs": [
    {
     "data": {
      "image/png": "[encoded data removed]",
      "text/plain": [
       "<Figure size 1080x180 with 6 Axes>"
      ]
     },
     "metadata": {
      "needs_background": "light"
     },
     "output_type": "display_data"
    }
   ],
   "source": [
    "# Pairplot 4 - ClaimAmount vs. x_vars.\n",
    "\n",
    "desc_pairplot_4 = sns.pairplot(df_merged, x_vars=desc_pairplot_x_vars_B, y_vars='ClaimAmount')"
   ]
  },
  {
   "cell_type": "markdown",
   "metadata": {},
   "source": [
    "* What distribution does ClaimAmount have?\n",
    "> ClaimAmount has a positive continuous distribution (non-negative, for this dataset) which is centred at 0 (a majority of policyholders do not make any claims). Hence, using an ordinary linear regression model that treats the response variable's distribution as normal/Gaussian would not be appropriate, due to the asymmetry in the probability distribution of ClaimAmount as described.\n",
    "\n",
    "* How will the distribution of this response variable affect the choice of regressors used for modelling claim severity?\n",
    "> As claim severity will need to be modelled via asymmetric/skewed distributions, we will need to consider regression approaches using generalised linear models which allow for response variables to have distributions that are non-normal, as well as other regressors that are capable of generalising in an agnostic manner (i.e. these do not require the underlying distribution of the response variable to be pre-defined). These methods are considered in further detail within Step 9."
   ]
  },
  {
   "cell_type": "markdown",
   "metadata": {},
   "source": [
    "### Step 7: Feature Selection\n",
    "---"
   ]
  },
  {
   "cell_type": "markdown",
   "metadata": {},
   "source": [
    "Use `Lasso Regrssion (L1 Regularization)`"
   ]
  },
  {
   "cell_type": "code",
   "execution_count": null,
   "metadata": {
    "trusted": true
   },
   "outputs": [
    {
     "name": "stdout",
     "output_type": "stream",
     "text": [
      "          ClaimNb  Exposure     Power  CarAge  DriverAge   Density  ClaimFreq  \\\n",
      "PolicyID                                                                        \n",
      "194119       0.00  0.240163  0.181818    0.07   0.407407  0.152826   0.000000   \n",
      "293687       0.00  0.501829  0.272727    0.13   0.358025  0.004667   0.000000   \n",
      "132615       0.25  0.199907  0.090909    0.09   0.333333  1.000000   0.006849   \n",
      "138539       0.00  0.290483  0.090909    0.04   0.172840  0.029632   0.000000   \n",
      "217750       0.00  0.260291  0.181818    0.11   0.111111  0.018631   0.000000   \n",
      "...           ...       ...       ...     ...        ...       ...        ...   \n",
      "73350        0.00  0.501829  0.181818    0.09   0.567901  0.002630   0.000000   \n",
      "371404       0.00  0.209971  0.545455    0.01   0.111111  1.000000   0.000000   \n",
      "312202       0.00  0.189842  0.000000    0.01   0.481481  1.000000   0.000000   \n",
      "267337       0.00  0.089202  0.000000    0.12   0.456790  0.005223   0.000000   \n",
      "128038       0.00  0.501829  0.181818    0.01   0.358025  0.135529   0.000000   \n",
      "\n",
      "          Brand_Fiat  Brand_Japanese (except Nissan) or Korean  \\\n",
      "PolicyID                                                         \n",
      "194119           0.0                                       0.0   \n",
      "293687           0.0                                       0.0   \n",
      "132615           0.0                                       0.0   \n",
      "138539           0.0                                       0.0   \n",
      "217750           0.0                                       0.0   \n",
      "...              ...                                       ...   \n",
      "73350            1.0                                       0.0   \n",
      "371404           0.0                                       0.0   \n",
      "312202           0.0                                       1.0   \n",
      "267337           0.0                                       0.0   \n",
      "128038           0.0                                       0.0   \n",
      "\n",
      "          Brand_Mercedes, Chrysler or BMW  ...  Region_Aquitaine  \\\n",
      "PolicyID                                   ...                     \n",
      "194119                                0.0  ...               0.0   \n",
      "293687                                0.0  ...               0.0   \n",
      "132615                                0.0  ...               0.0   \n",
      "138539                                0.0  ...               0.0   \n",
      "217750                                0.0  ...               0.0   \n",
      "...                                   ...  ...               ...   \n",
      "73350                                 0.0  ...               0.0   \n",
      "371404                                1.0  ...               0.0   \n",
      "312202                                0.0  ...               0.0   \n",
      "267337                                0.0  ...               0.0   \n",
      "128038                                0.0  ...               0.0   \n",
      "\n",
      "          Region_Basse-Normandie  Region_Bretagne  Region_Centre  \\\n",
      "PolicyID                                                           \n",
      "194119                       0.0              0.0            0.0   \n",
      "293687                       0.0              0.0            1.0   \n",
      "132615                       0.0              0.0            0.0   \n",
      "138539                       0.0              0.0            0.0   \n",
      "217750                       1.0              0.0            0.0   \n",
      "...                          ...              ...            ...   \n",
      "73350                        0.0              0.0            1.0   \n",
      "371404                       0.0              0.0            0.0   \n",
      "312202                       0.0              0.0            0.0   \n",
      "267337                       0.0              1.0            0.0   \n",
      "128038                       0.0              0.0            0.0   \n",
      "\n",
      "          Region_Haute-Normandie  Region_Ile-de-France  Region_Limousin  \\\n",
      "PolicyID                                                                  \n",
      "194119                       0.0                   0.0              0.0   \n",
      "293687                       0.0                   0.0              0.0   \n",
      "132615                       0.0                   0.0              0.0   \n",
      "138539                       0.0                   0.0              0.0   \n",
      "217750                       0.0                   0.0              0.0   \n",
      "...                          ...                   ...              ...   \n",
      "73350                        0.0                   0.0              0.0   \n",
      "371404                       0.0                   0.0              0.0   \n",
      "312202                       0.0                   0.0              0.0   \n",
      "267337                       0.0                   0.0              0.0   \n",
      "128038                       0.0                   0.0              0.0   \n",
      "\n",
      "          Region_Nord-Pas-de-Calais  Region_Pays-de-la-Loire  \\\n",
      "PolicyID                                                       \n",
      "194119                          0.0                      1.0   \n",
      "293687                          0.0                      0.0   \n",
      "132615                          0.0                      0.0   \n",
      "138539                          1.0                      0.0   \n",
      "217750                          0.0                      0.0   \n",
      "...                             ...                      ...   \n",
      "73350                           0.0                      0.0   \n",
      "371404                          0.0                      0.0   \n",
      "312202                          0.0                      0.0   \n",
      "267337                          0.0                      0.0   \n",
      "128038                          0.0                      0.0   \n",
      "\n",
      "          Region_Poitou-Charentes  \n",
      "PolicyID                           \n",
      "194119                        0.0  \n",
      "293687                        0.0  \n",
      "132615                        0.0  \n",
      "138539                        0.0  \n",
      "217750                        0.0  \n",
      "...                           ...  \n",
      "73350                         0.0  \n",
      "371404                        0.0  \n",
      "312202                        0.0  \n",
      "267337                        0.0  \n",
      "128038                        0.0  \n",
      "\n",
      "[330535 rows x 26 columns]\n"
     ]
    }
   ],
   "source": [
    "\n",
    "\n",
    "# Establish the Lasso (L1) Regularisation model that will perform feature selection.\n",
    "lasso = Lasso(alpha=5e-5, random_state=1, max_iter=1e+6).fit(X_train_scale, y_train)\n",
    "model = SelectFromModel(lasso, prefit=True)\n",
    "\n",
    "X_train_l1 = model.transform(X_train_scale)\n",
    "\n",
    "selected_features = pd.DataFrame(model.inverse_transform(X_train_l1),\n",
    "                                index=X_train_scale.index,\n",
    "                                columns=X_train_scale.columns)\n",
    "\n",
    "print(selected_features)"
   ]
  },
  {
   "cell_type": "code",
   "execution_count": 24,
   "metadata": {
    "trusted": true
   },
   "outputs": [
    {
     "name": "stdout",
     "output_type": "stream",
     "text": [
      "Index(['ClaimNb', 'Exposure', 'Power', 'CarAge', 'DriverAge', 'Density',\n",
      "       'ClaimFreq', 'Brand_Fiat', 'Brand_Japanese (except Nissan) or Korean',\n",
      "       'Brand_Mercedes, Chrysler or BMW', 'Brand_Opel, General Motors or Ford',\n",
      "       'Brand_Renault, Nissan or Citroen', 'Brand_other', 'Gas_Diesel',\n",
      "       'Region_Aquitaine', 'Region_Basse-Normandie', 'Region_Bretagne',\n",
      "       'Region_Centre', 'Region_Haute-Normandie', 'Region_Limousin',\n",
      "       'Region_Nord-Pas-de-Calais', 'Region_Pays-de-la-Loire',\n",
      "       'Region_Poitou-Charentes'],\n",
      "      dtype='object')\n"
     ]
    }
   ],
   "source": [
    "selected_columns = selected_features.columns[selected_features.var() != 0]\n",
    "\n",
    "print(selected_columns)"
   ]
  },
  {
   "cell_type": "code",
   "execution_count": 25,
   "metadata": {
    "trusted": true
   },
   "outputs": [
    {
     "name": "stdout",
     "output_type": "stream",
     "text": [
      "          ClaimNb  Exposure     Power  CarAge  DriverAge   Density  ClaimFreq  \\\n",
      "PolicyID                                                                        \n",
      "194119       0.00  0.240163  0.181818    0.07   0.407407  0.152826   0.000000   \n",
      "293687       0.00  0.501829  0.272727    0.13   0.358025  0.004667   0.000000   \n",
      "132615       0.25  0.199907  0.090909    0.09   0.333333  1.000000   0.006849   \n",
      "138539       0.00  0.290483  0.090909    0.04   0.172840  0.029632   0.000000   \n",
      "217750       0.00  0.260291  0.181818    0.11   0.111111  0.018631   0.000000   \n",
      "...           ...       ...       ...     ...        ...       ...        ...   \n",
      "73350        0.00  0.501829  0.181818    0.09   0.567901  0.002630   0.000000   \n",
      "371404       0.00  0.209971  0.545455    0.01   0.111111  1.000000   0.000000   \n",
      "312202       0.00  0.189842  0.000000    0.01   0.481481  1.000000   0.000000   \n",
      "267337       0.00  0.089202  0.000000    0.12   0.456790  0.005223   0.000000   \n",
      "128038       0.00  0.501829  0.181818    0.01   0.358025  0.135529   0.000000   \n",
      "\n",
      "          Brand_Fiat  Brand_Japanese (except Nissan) or Korean  \\\n",
      "PolicyID                                                         \n",
      "194119           0.0                                       0.0   \n",
      "293687           0.0                                       0.0   \n",
      "132615           0.0                                       0.0   \n",
      "138539           0.0                                       0.0   \n",
      "217750           0.0                                       0.0   \n",
      "...              ...                                       ...   \n",
      "73350            1.0                                       0.0   \n",
      "371404           0.0                                       0.0   \n",
      "312202           0.0                                       1.0   \n",
      "267337           0.0                                       0.0   \n",
      "128038           0.0                                       0.0   \n",
      "\n",
      "          Brand_Mercedes, Chrysler or BMW  ...  Gas_Diesel  Region_Aquitaine  \\\n",
      "PolicyID                                   ...                                 \n",
      "194119                                0.0  ...         0.0               0.0   \n",
      "293687                                0.0  ...         0.0               0.0   \n",
      "132615                                0.0  ...         0.0               0.0   \n",
      "138539                                0.0  ...         1.0               0.0   \n",
      "217750                                0.0  ...         1.0               0.0   \n",
      "...                                   ...  ...         ...               ...   \n",
      "73350                                 0.0  ...         0.0               0.0   \n",
      "371404                                1.0  ...         0.0               0.0   \n",
      "312202                                0.0  ...         0.0               0.0   \n",
      "267337                                0.0  ...         0.0               0.0   \n",
      "128038                                0.0  ...         1.0               0.0   \n",
      "\n",
      "          Region_Basse-Normandie  Region_Bretagne  Region_Centre  \\\n",
      "PolicyID                                                           \n",
      "194119                       0.0              0.0            0.0   \n",
      "293687                       0.0              0.0            1.0   \n",
      "132615                       0.0              0.0            0.0   \n",
      "138539                       0.0              0.0            0.0   \n",
      "217750                       1.0              0.0            0.0   \n",
      "...                          ...              ...            ...   \n",
      "73350                        0.0              0.0            1.0   \n",
      "371404                       0.0              0.0            0.0   \n",
      "312202                       0.0              0.0            0.0   \n",
      "267337                       0.0              1.0            0.0   \n",
      "128038                       0.0              0.0            0.0   \n",
      "\n",
      "          Region_Haute-Normandie  Region_Limousin  Region_Nord-Pas-de-Calais  \\\n",
      "PolicyID                                                                       \n",
      "194119                       0.0              0.0                        0.0   \n",
      "293687                       0.0              0.0                        0.0   \n",
      "132615                       0.0              0.0                        0.0   \n",
      "138539                       0.0              0.0                        1.0   \n",
      "217750                       0.0              0.0                        0.0   \n",
      "...                          ...              ...                        ...   \n",
      "73350                        0.0              0.0                        0.0   \n",
      "371404                       0.0              0.0                        0.0   \n",
      "312202                       0.0              0.0                        0.0   \n",
      "267337                       0.0              0.0                        0.0   \n",
      "128038                       0.0              0.0                        0.0   \n",
      "\n",
      "          Region_Pays-de-la-Loire  Region_Poitou-Charentes  \n",
      "PolicyID                                                    \n",
      "194119                        1.0                      0.0  \n",
      "293687                        0.0                      0.0  \n",
      "132615                        0.0                      0.0  \n",
      "138539                        0.0                      0.0  \n",
      "217750                        0.0                      0.0  \n",
      "...                           ...                      ...  \n",
      "73350                         0.0                      0.0  \n",
      "371404                        0.0                      0.0  \n",
      "312202                        0.0                      0.0  \n",
      "267337                        0.0                      0.0  \n",
      "128038                        0.0                      0.0  \n",
      "\n",
      "[330535 rows x 23 columns]\n"
     ]
    }
   ],
   "source": [
    "X_train_L1reg = selected_features.drop(selected_features.columns[selected_features.var() == 0], axis=1)\n",
    "\n",
    "print(X_train_L1reg)"
   ]
  },
  {
   "cell_type": "code",
   "execution_count": 26,
   "metadata": {
    "trusted": true
   },
   "outputs": [],
   "source": [
    "# The X_valid dataframe is truncated such that only the L1-selected features are used for validation purposes.\n",
    "X_valid_L1reg = X_valid_scale[selected_columns]"
   ]
  },
  {
   "cell_type": "markdown",
   "metadata": {},
   "source": [
    "### Step-9: UDF (Cross Validation)\n",
    "---"
   ]
  },
  {
   "cell_type": "code",
   "execution_count": 28,
   "metadata": {
    "trusted": true
   },
   "outputs": [],
   "source": [
    "## Define scoring functions for each method.\n",
    "\n",
    "def get_score_RF(n_estimators):\n",
    "    model_RF = RandomForestRegressor(n_estimators=n_estimators, random_state=1, n_jobs=-1)\n",
    "    \n",
    "    scores_RF = -1 * cross_val_score(model_RF, X_train_L1reg, y_train,\n",
    "                              cv=5,\n",
    "                              scoring='neg_mean_absolute_error')\n",
    "\n",
    "    return scores_RF.mean()\n",
    "\n",
    "\n",
    "def get_score_PGLM(alpha):\n",
    "    model_PGLM = PoissonRegressor(alpha=alpha, max_iter=500)\n",
    "    \n",
    "    scores_PGLM = -1 * cross_val_score(model_PGLM, X_train_L1reg, y_train,\n",
    "                                  cv=5,\n",
    "                                  scoring='neg_mean_absolute_error')\n",
    "    \n",
    "    return scores_PGLM.mean()\n",
    "\n",
    "\n",
    "def get_score_TGLM(alpha):\n",
    "    model_TGLM = TweedieRegressor(power=1.8, alpha=alpha, max_iter=500)\n",
    "    \n",
    "    scores_TGLM = -1 * cross_val_score(model_TGLM, X_train_L1reg, y_train,\n",
    "                                  cv=5,\n",
    "                                  scoring='neg_mean_absolute_error')\n",
    "    \n",
    "    return scores_TGLM.mean()\n",
    "\n",
    "\n",
    "def get_score_XGB(n_estimators):\n",
    "    model_XGB = XGBRegressor(n_estimators=n_estimators,\n",
    "                               learning_rate=0.01,\n",
    "                               random_state=1)\n",
    "    \n",
    "    scores_XGB = -1 * cross_val_score(model_XGB, X_train_L1reg, y_train,\n",
    "                                     cv=5,\n",
    "                                     scoring='neg_mean_absolute_error')\n",
    "    \n",
    "    return scores_XGB.mean()\n",
    "\n",
    "\n",
    "## Create empty dictionaries which will be used to store the scoring results for each method.\n",
    "\n",
    "results_RF = {}\n",
    "results_PGLM = {}\n",
    "results_TGLM = {}\n",
    "results_XGB = {}"
   ]
  },
  {
   "cell_type": "code",
   "execution_count": null,
   "metadata": {
    "trusted": true
   },
   "outputs": [
    {
     "name": "stdout",
     "output_type": "stream",
     "text": [
      "results_RF1 recorded\n",
      "results_RF2 recorded\n",
      "results_RF3 recorded\n",
      "results_RF4 recorded\n",
      "results_RF5 recorded\n",
      "results_RF6 recorded\n",
      "results_RF7 recorded\n",
      "results_RF8 recorded\n",
      "RF done\n"
     ]
    }
   ],
   "source": [
    "for i in range(1, 9):\n",
    "    results_RF[100*i] = get_score_RF(100*i)\n",
    "    print(\"results_RF{} recorded\".format(i))\n",
    "\n",
    "print(\"RF done\")"
   ]
  },
  {
   "cell_type": "code",
   "execution_count": null,
   "metadata": {
    "trusted": true
   },
   "outputs": [
    {
     "name": "stdout",
     "output_type": "stream",
     "text": [
      "results_PGLM1 recorded\n",
      "results_PGLM2 recorded\n",
      "results_PGLM3 recorded\n",
      "results_PGLM4 recorded\n",
      "results_PGLM5 recorded\n",
      "results_PGLM6 recorded\n",
      "results_PGLM7 recorded\n",
      "results_PGLM8 recorded\n",
      "PGLM done\n"
     ]
    }
   ],
   "source": [
    "for i in range(1, 9):\n",
    "    results_PGLM[round(0.2*i, 2)] = get_score_PGLM(round(0.2*i, 2))\n",
    "    print(\"results_PGLM{} recorded\".format(i))\n",
    "\n",
    "print(\"PGLM done\")"
   ]
  },
  {
   "cell_type": "code",
   "execution_count": null,
   "metadata": {
    "trusted": true
   },
   "outputs": [
    {
     "name": "stdout",
     "output_type": "stream",
     "text": [
      "results_TGLM1 recorded\n",
      "results_TGLM2 recorded\n",
      "results_TGLM3 recorded\n",
      "results_TGLM4 recorded\n",
      "results_TGLM5 recorded\n",
      "results_TGLM6 recorded\n",
      "results_TGLM7 recorded\n",
      "results_TGLM8 recorded\n",
      "TGLM done\n"
     ]
    }
   ],
   "source": [
    "for i in range(1, 9):\n",
    "    results_TGLM[round(0.01*i, 2)] = get_score_TGLM(round(0.01*i, 2))\n",
    "    print(\"results_TGLM{} recorded\".format(i))\n",
    "\n",
    "print(\"TGLM done\")"
   ]
  },
  {
   "cell_type": "code",
   "execution_count": null,
   "metadata": {
    "trusted": true
   },
   "outputs": [
    {
     "name": "stdout",
     "output_type": "stream",
     "text": [
      "results_XGB1 recorded\n",
      "results_XGB2 recorded\n",
      "results_XGB3 recorded\n",
      "results_XGB4 recorded\n",
      "results_XGB5 recorded\n",
      "results_XGB6 recorded\n",
      "results_XGB7 recorded\n",
      "results_XGB8 recorded\n",
      "XGB done\n"
     ]
    }
   ],
   "source": [
    "for i in range(1, 9):\n",
    "    results_XGB[5*i] = get_score_XGB(5*i)\n",
    "    print(\"results_XGB{} recorded\".format(i))\n",
    "    \n",
    "print(\"XGB done\")"
   ]
  },
  {
   "cell_type": "markdown",
   "metadata": {},
   "source": [
    "**Determine the optimal hyperparameters**"
   ]
  },
  {
   "cell_type": "code",
   "execution_count": 33,
   "metadata": {
    "trusted": true
   },
   "outputs": [
    {
     "name": "stdout",
     "output_type": "stream",
     "text": [
      "700\n"
     ]
    }
   ],
   "source": [
    "RF_n_estimators_best = min(results_RF, key=results_RF.get)\n",
    "print(RF_n_estimators_best)"
   ]
  },
  {
   "cell_type": "code",
   "execution_count": 34,
   "metadata": {
    "trusted": true
   },
   "outputs": [
    {
     "name": "stdout",
     "output_type": "stream",
     "text": [
      "0.8\n"
     ]
    }
   ],
   "source": [
    "PGLM_alpha_best = min(results_PGLM, key=results_PGLM.get)\n",
    "print(PGLM_alpha_best)"
   ]
  },
  {
   "cell_type": "code",
   "execution_count": 35,
   "metadata": {
    "trusted": true
   },
   "outputs": [
    {
     "name": "stdout",
     "output_type": "stream",
     "text": [
      "0.04\n"
     ]
    }
   ],
   "source": [
    "TGLM_alpha_best = min(results_TGLM, key=results_TGLM.get)\n",
    "print(TGLM_alpha_best)"
   ]
  },
  {
   "cell_type": "code",
   "execution_count": 36,
   "metadata": {
    "trusted": true
   },
   "outputs": [
    {
     "name": "stdout",
     "output_type": "stream",
     "text": [
      "40\n"
     ]
    }
   ],
   "source": [
    "XGB_n_estimators_best = min(results_XGB, key=results_XGB.get)\n",
    "print(XGB_n_estimators_best)"
   ]
  },
  {
   "cell_type": "markdown",
   "metadata": {},
   "source": [
    "### Step-9: Model Training\n",
    "---"
   ]
  },
  {
   "cell_type": "code",
   "execution_count": null,
   "metadata": {
    "trusted": true
   },
   "outputs": [],
   "source": [
    "model_RF_opt = RandomForestRegressor(n_estimators=RF_n_estimators_best, random_state=1, n_jobs=-1)\n",
    "\n",
    "model_PGLM_opt = PoissonRegressor(alpha=PGLM_alpha_best, max_iter=500)\n",
    "\n",
    "model_TGLM_opt = TweedieRegressor(power=1.8, alpha=TGLM_alpha_best, max_iter=500)\n",
    "\n",
    "model_XGB_opt = XGBRegressor(n_estimators=XGB_n_estimators_best, learning_rate=0.01, random_state=1)"
   ]
  },
  {
   "cell_type": "code",
   "execution_count": null,
   "metadata": {
    "trusted": true
   },
   "outputs": [
    {
     "name": "stdout",
     "output_type": "stream",
     "text": [
      "model_RF_opt trained\n",
      "model_PGLM_opt trained\n",
      "model_TGLM_opt trained\n",
      "model_XGB_opt trained\n"
     ]
    }
   ],
   "source": [
    "model_RF_opt.fit(X_train_L1reg, y_train)\n",
    "print(\"model_RF_opt trained\")\n",
    "\n",
    "model_PGLM_opt.fit(X_train_L1reg, y_train)\n",
    "print(\"model_PGLM_opt trained\")\n",
    "\n",
    "model_TGLM_opt.fit(X_train_L1reg, y_train)\n",
    "print(\"model_TGLM_opt trained\")\n",
    "\n",
    "model_XGB_opt.fit(X_train_L1reg, y_train)\n",
    "print(\"model_XGB_opt trained\")"
   ]
  },
  {
   "cell_type": "markdown",
   "metadata": {},
   "source": [
    "### Step-10: Model Predictions\n",
    "---"
   ]
  },
  {
   "cell_type": "code",
   "execution_count": 39,
   "metadata": {
    "trusted": true
   },
   "outputs": [
    {
     "name": "stdout",
     "output_type": "stream",
     "text": [
      "All predictions generated\n"
     ]
    }
   ],
   "source": [
    "# Use the trained models to generate unique sets of predicted y-values i.e. ClaimAmount.\n",
    "\n",
    "preds_RF = model_RF_opt.predict(X_valid_L1reg)\n",
    "preds_PGLM = model_PGLM_opt.predict(X_valid_L1reg)\n",
    "preds_TGLM = model_TGLM_opt.predict(X_valid_L1reg)\n",
    "preds_XGB = model_XGB_opt.predict(X_valid_L1reg)\n",
    "print(\"All predictions generated\")"
   ]
  },
  {
   "cell_type": "markdown",
   "metadata": {},
   "source": [
    "### Step-11: Model Performance Validation and Results\n",
    "---"
   ]
  },
  {
   "cell_type": "markdown",
   "metadata": {},
   "source": [
    "To evaluate and rank the models, we will use the Mean Absolute Error (MAE) as a scoring metric, calculated using `sklearn.metrics.mean_absolute_error()`. This avoids penalizing models for large errors or outliers, which could lead to overfitting, especially since most policyholders in the `freMTPL` dataset have not made claims. Alternatively, `Root Mean Squared Error (RMSE)` could be used, but it heavily penalizes large errors."
   ]
  },
  {
   "cell_type": "code",
   "execution_count": null,
   "metadata": {
    "trusted": true
   },
   "outputs": [
    {
     "name": "stdout",
     "output_type": "stream",
     "text": [
      "All MAE scores calculated\n"
     ]
    }
   ],
   "source": [
    "\n",
    "\n",
    "# Calculate the Mean Absolute Error metric for each set of predicted y-values.\n",
    "\n",
    "MAE_RF = mean_absolute_error(y_valid, preds_RF)\n",
    "MAE_PGLM = mean_absolute_error(y_valid, preds_PGLM)\n",
    "MAE_TGLM = mean_absolute_error(y_valid, preds_TGLM)\n",
    "MAE_XGB = mean_absolute_error(y_valid, preds_XGB)\n",
    "print(\"All MAE scores calculated\")"
   ]
  },
  {
   "cell_type": "code",
   "execution_count": 41,
   "metadata": {
    "trusted": true
   },
   "outputs": [
    {
     "name": "stdout",
     "output_type": "stream",
     "text": [
      "{'RF': 95.01813166443816, 'PGLM': 119.47557730386791, 'TGLM': 77.99906852382652, 'XGB': 57.404240598175434}\n"
     ]
    }
   ],
   "source": [
    "# Collect all MAE scores in a single dictionary.\n",
    "\n",
    "MAE_results = {'RF': MAE_RF,\n",
    "                'PGLM': MAE_PGLM,\n",
    "                'TGLM': MAE_TGLM,\n",
    "                'XGB': MAE_XGB}\n",
    "\n",
    "print(MAE_results)"
   ]
  },
  {
   "cell_type": "code",
   "execution_count": 42,
   "metadata": {
    "trusted": true
   },
   "outputs": [
    {
     "name": "stdout",
     "output_type": "stream",
     "text": [
      "XGB\n"
     ]
    }
   ],
   "source": [
    "# Select the model with the smallest MAE.\n",
    "\n",
    "best_model = min(MAE_results, key=MAE_results.get)\n",
    "print(best_model)"
   ]
  },
  {
   "cell_type": "markdown",
   "metadata": {},
   "source": [
    "The most logical next step would be to iteratively refine the model chosen above, by continually re-training it such that an optimal fit to the _test_ data is achieved.\n",
    "\n",
    "Here, we have only optimised each model's fit to the _training_ data before generating (and comparing) a single set of predictions for each of these regressors; we would need to repeat this for multiple variations of the model (ideally for each regressor, as well) - i.e. with different hyperparameter configurations - which would then be tested and finally ranked based on their performance against _test_ (\"live\") data."
   ]
  },
  {
   "cell_type": "markdown",
   "metadata": {},
   "source": [
    "### Step-12: Suggestions\n",
    "---"
   ]
  },
  {
   "cell_type": "markdown",
   "metadata": {},
   "source": [
    "This project provides an overview of the DS workflow applied to insurance but does not cover all aspects of applying ML for actuarial pricing. Several improvements can be made:\n",
    "\n",
    "1. **Claim Severity Modeling**: We predicted total loss per policyholder, but a more granular approach could model average claim loss per claim. Additionally, incorporating predictions for the number of claims could align with traditional actuarial methods, and using non-zero claim amounts could allow for alternative modeling like a Gamma GLM.\n",
    "\n",
    "2. **Model Training**: We used a single round of training and testing; however, in real-world scenarios, models should be re-trained and tested iteratively for optimal fit.\n",
    "\n",
    "3. **Data Preprocessing**: Alternative encoding methods for categorical variables, especially with high cardinality (e.g., `Region`), should be considered as one-hot encoding may not be ideal.\n",
    "\n",
    "4. **Hyperparameter Optimization**: A grid search could be used to optimize hyperparameters across all values to find the best model, instead of optimizing one parameter at a time.\n",
    "\n",
    "5. **Feature Selection**: More rigorous feature selection, such as adjusting the `alpha` in Lasso regression, could help reduce overfitting by eliminating irrelevant features, requiring further hyperparameter tuning to balance fitting and generalization.\n",
    "\n",
    "These enhancements would lead to more robust, efficient, and accurate actuarial models."
   ]
  }
 ],
 "metadata": {
  "kernelspec": {
   "display_name": "Python 3",
   "language": "python",
   "name": "python3"
  },
  "language_info": {
   "codemirror_mode": {
    "name": "ipython",
    "version": 3
   },
   "file_extension": ".py",
   "mimetype": "text/x-python",
   "name": "python",
   "nbconvert_exporter": "python",
   "pygments_lexer": "ipython3",
   "version": "3.7.9"
  }
 },
 "nbformat": 4,
 "nbformat_minor": 4
}
